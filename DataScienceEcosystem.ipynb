{
 "cells": [
  {
   "cell_type": "markdown",
   "id": "057b6a30",
   "metadata": {},
   "source": [
    "# Data Science Tools and Ecosystem"
   ]
  },
  {
   "cell_type": "markdown",
   "id": "da2c1006",
   "metadata": {},
   "source": [
    "In this notebook, we will summarized Data Science Tools and Ecosystem."
   ]
  },
  {
   "cell_type": "markdown",
   "id": "55bf7e4d-470c-4536-9eec-8fbbc79ec636",
   "metadata": {},
   "source": [
    "**Objetives:**\n",
    "* List popular languages for Data Science\n",
    "* List commonly used bibliotecas used by Data Science\n",
    "* Create a markdown cell with a table of Data Science tools\n",
    "* Arithmetic expression examples"
   ]
  },
  {
   "cell_type": "markdown",
   "id": "985a4f71-0f97-44f9-8d98-870a4a0505e2",
   "metadata": {},
   "source": [
    "Some of the popular languages that Data Scientists use include:\n",
    "\n",
    "    1. Python\n",
    "    2. R\n",
    "    3. SQL"
   ]
  },
  {
   "cell_type": "markdown",
   "id": "4c26f98e-767a-4adf-873f-20b30ce1f9d5",
   "metadata": {},
   "source": [
    "Some of the most used libraries used nowadays by Data Scientists are:\n",
    "\n",
    "    1. Scikit-learn\n",
    "    2. Pandas\n",
    "    3. TensorFlow"
   ]
  },
  {
   "cell_type": "markdown",
   "id": "5aed21f0-acfd-4372-80f0-62a3e4b05a9b",
   "metadata": {},
   "source": [
    "| Data Science Tools |\n",
    "| --- |\n",
    "| MySQL |\n",
    "| Kubernetes |\n",
    "| ModelDB |"
   ]
  },
  {
   "cell_type": "markdown",
   "id": "64fdebf1-e624-4dab-8090-91a60bb9cf5f",
   "metadata": {},
   "source": [
    "### Below are a few examples of evaluating arithmetic expressions in Python\n",
    "\n",
    "result_1 = 5+3 = 8\n",
    "\n",
    "result_2 = 10/2 = 5\n",
    "\n",
    "result_3 = 2*2 = 4"
   ]
  },
  {
   "cell_type": "code",
   "execution_count": 4,
   "id": "c4d623fe-bffd-44bd-b7fe-4013ca46c6e1",
   "metadata": {},
   "outputs": [
    {
     "data": {
      "text/plain": [
       "17"
      ]
     },
     "execution_count": 4,
     "metadata": {},
     "output_type": "execute_result"
    }
   ],
   "source": [
    "# This a simple arithmetic expression to mutiply then add integers\n",
    "(3*4)+5"
   ]
  },
  {
   "cell_type": "code",
   "execution_count": 6,
   "id": "be88a974-9523-4bf7-831f-be8ad18c74e9",
   "metadata": {},
   "outputs": [
    {
     "data": {
      "text/plain": [
       "3.3333333333333335"
      ]
     },
     "execution_count": 6,
     "metadata": {},
     "output_type": "execute_result"
    }
   ],
   "source": [
    "# This will convert 200 minutes to hours by diving by 60\n",
    "200/60"
   ]
  },
  {
   "cell_type": "markdown",
   "id": "4615dcaf-5894-4117-8f8b-8e1f539ad47e",
   "metadata": {},
   "source": [
    "## Author\n",
    "José María Cases"
   ]
  },
  {
   "cell_type": "code",
   "execution_count": null,
   "id": "ea662570-d21a-411e-911d-c4c798cc105d",
   "metadata": {},
   "outputs": [],
   "source": []
  }
 ],
 "metadata": {
  "kernelspec": {
   "display_name": "Python 3 (ipykernel)",
   "language": "python",
   "name": "python3"
  },
  "language_info": {
   "codemirror_mode": {
    "name": "ipython",
    "version": 3
   },
   "file_extension": ".py",
   "mimetype": "text/x-python",
   "name": "python",
   "nbconvert_exporter": "python",
   "pygments_lexer": "ipython3",
   "version": "3.9.13"
  }
 },
 "nbformat": 4,
 "nbformat_minor": 5
}

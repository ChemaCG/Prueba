{
 "cells": [
  {
   "cell_type": "markdown",
   "id": "057b6a30",
   "metadata": {},
   "source": [
    "# Data Science Tools and Ecosystem"
   ]
  },
  {
   "cell_type": "markdown",
   "id": "da2c1006",
   "metadata": {},
   "source": [
    "En este cuaderno, se resumen las herramientas y ecosistemas de ciencia de datos."
   ]
  },
  {
   "cell_type": "markdown",
   "id": "55bf7e4d-470c-4536-9eec-8fbbc79ec636",
   "metadata": {},
   "source": [
    "**Objetivos:**\n",
    "- Listar lenguajes populares para Ciencia de Datos\n",
    "- Listar bibliotecas comúnmente utilizadas para Ciencia de Datos\n",
    "- Crear una tabla que muestre herramientas de Ciencias de Datos\n",
    "- Expresiones aritméticas en Python"
   ]
  },
  {
   "cell_type": "markdown",
   "id": "985a4f71-0f97-44f9-8d98-870a4a0505e2",
   "metadata": {},
   "source": [
    "Algunos de los lenguajes populares que utilizan los científicos de datos son:\n",
    "\n",
    "    1. Python\n",
    "    2. R\n",
    "    3. SQL"
   ]
  },
  {
   "cell_type": "markdown",
   "id": "4c26f98e-767a-4adf-873f-20b30ce1f9d5",
   "metadata": {},
   "source": [
    "Algunas de las bibliotecas comúnmente utilizadas por los científicos de datos incluyen:\n",
    "\n",
    "1. Scikit-learn\n",
    "2. Pandas\n",
    "3. TensorFlow"
   ]
  },
  {
   "cell_type": "markdown",
   "id": "5aed21f0-acfd-4372-80f0-62a3e4b05a9b",
   "metadata": {},
   "source": [
    "| Herramientas de Ciencia de Datos |\n",
    "| --- |\n",
    "| MySQL |\n",
    "| Kubernetes |\n",
    "| ModelDB |"
   ]
  },
  {
   "cell_type": "markdown",
   "id": "64fdebf1-e624-4dab-8090-91a60bb9cf5f",
   "metadata": {},
   "source": [
    "### A continuación, se presentan algunos ejemplos de evaluación de expresiones aritméticas en Python\n",
    "\n",
    "resultado_1 = 5+3 = 8\n",
    "\n",
    "resultado_2 = 10/2 = 5\n",
    "\n",
    "resultado_3 = 2*2 = 4"
   ]
  },
  {
   "cell_type": "code",
   "execution_count": 2,
   "id": "c4d623fe-bffd-44bd-b7fe-4013ca46c6e1",
   "metadata": {},
   "outputs": [
    {
     "data": {
      "text/plain": [
       "17"
      ]
     },
     "execution_count": 2,
     "metadata": {},
     "output_type": "execute_result"
    }
   ],
   "source": [
    "# Esta es una expresión aritmética simple para multiplicar y luego sumar enteros\n",
    "(3*4)+5"
   ]
  },
  {
   "cell_type": "code",
   "execution_count": 3,
   "id": "be88a974-9523-4bf7-831f-be8ad18c74e9",
   "metadata": {},
   "outputs": [
    {
     "data": {
      "text/plain": [
       "3.3333333333333335"
      ]
     },
     "execution_count": 3,
     "metadata": {},
     "output_type": "execute_result"
    }
   ],
   "source": [
    "# Esto convertirá 200 minutos a horas dividiendo por 60\n",
    "200/60"
   ]
  },
  {
   "cell_type": "markdown",
   "id": "4615dcaf-5894-4117-8f8b-8e1f539ad47e",
   "metadata": {},
   "source": [
    "## Autor\n",
    "José María Cases"
   ]
  },
  {
   "cell_type": "code",
   "execution_count": null,
   "id": "ea662570-d21a-411e-911d-c4c798cc105d",
   "metadata": {},
   "outputs": [],
   "source": []
  }
 ],
 "metadata": {
  "kernelspec": {
   "display_name": "Python 3 (ipykernel)",
   "language": "python",
   "name": "python3"
  },
  "language_info": {
   "codemirror_mode": {
    "name": "ipython",
    "version": 3
   },
   "file_extension": ".py",
   "mimetype": "text/x-python",
   "name": "python",
   "nbconvert_exporter": "python",
   "pygments_lexer": "ipython3",
   "version": "3.9.13"
  }
 },
 "nbformat": 4,
 "nbformat_minor": 5
}
